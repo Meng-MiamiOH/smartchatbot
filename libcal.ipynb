{
 "cells": [
  {
   "attachments": {},
   "cell_type": "markdown",
   "metadata": {},
   "source": [
    "## Making room and equipment reservations via LibCal API"
   ]
  },
  {
   "attachments": {},
   "cell_type": "markdown",
   "metadata": {},
   "source": [
    "#### 1. Get Token"
   ]
  },
  {
   "cell_type": "code",
   "execution_count": null,
   "metadata": {},
   "outputs": [],
   "source": []
  },
  {
   "cell_type": "code",
   "execution_count": 7,
   "metadata": {},
   "outputs": [
    {
     "ename": "JSONDecodeError",
     "evalue": "Expecting value: line 1 column 1 (char 0)",
     "output_type": "error",
     "traceback": [
      "\u001b[0;31m---------------------------------------------------------------------------\u001b[0m",
      "\u001b[0;31mJSONDecodeError\u001b[0m                           Traceback (most recent call last)",
      "File \u001b[0;32m~/miniconda3/envs/library_chatbot/lib/python3.11/site-packages/requests/models.py:971\u001b[0m, in \u001b[0;36mResponse.json\u001b[0;34m(self, **kwargs)\u001b[0m\n\u001b[1;32m    970\u001b[0m \u001b[39mtry\u001b[39;00m:\n\u001b[0;32m--> 971\u001b[0m     \u001b[39mreturn\u001b[39;00m complexjson\u001b[39m.\u001b[39;49mloads(\u001b[39mself\u001b[39;49m\u001b[39m.\u001b[39;49mtext, \u001b[39m*\u001b[39;49m\u001b[39m*\u001b[39;49mkwargs)\n\u001b[1;32m    972\u001b[0m \u001b[39mexcept\u001b[39;00m JSONDecodeError \u001b[39mas\u001b[39;00m e:\n\u001b[1;32m    973\u001b[0m     \u001b[39m# Catch JSON-related errors and raise as requests.JSONDecodeError\u001b[39;00m\n\u001b[1;32m    974\u001b[0m     \u001b[39m# This aliases json.JSONDecodeError and simplejson.JSONDecodeError\u001b[39;00m\n",
      "File \u001b[0;32m~/miniconda3/envs/library_chatbot/lib/python3.11/json/__init__.py:346\u001b[0m, in \u001b[0;36mloads\u001b[0;34m(s, cls, object_hook, parse_float, parse_int, parse_constant, object_pairs_hook, **kw)\u001b[0m\n\u001b[1;32m    343\u001b[0m \u001b[39mif\u001b[39;00m (\u001b[39mcls\u001b[39m \u001b[39mis\u001b[39;00m \u001b[39mNone\u001b[39;00m \u001b[39mand\u001b[39;00m object_hook \u001b[39mis\u001b[39;00m \u001b[39mNone\u001b[39;00m \u001b[39mand\u001b[39;00m\n\u001b[1;32m    344\u001b[0m         parse_int \u001b[39mis\u001b[39;00m \u001b[39mNone\u001b[39;00m \u001b[39mand\u001b[39;00m parse_float \u001b[39mis\u001b[39;00m \u001b[39mNone\u001b[39;00m \u001b[39mand\u001b[39;00m\n\u001b[1;32m    345\u001b[0m         parse_constant \u001b[39mis\u001b[39;00m \u001b[39mNone\u001b[39;00m \u001b[39mand\u001b[39;00m object_pairs_hook \u001b[39mis\u001b[39;00m \u001b[39mNone\u001b[39;00m \u001b[39mand\u001b[39;00m \u001b[39mnot\u001b[39;00m kw):\n\u001b[0;32m--> 346\u001b[0m     \u001b[39mreturn\u001b[39;00m _default_decoder\u001b[39m.\u001b[39;49mdecode(s)\n\u001b[1;32m    347\u001b[0m \u001b[39mif\u001b[39;00m \u001b[39mcls\u001b[39m \u001b[39mis\u001b[39;00m \u001b[39mNone\u001b[39;00m:\n",
      "File \u001b[0;32m~/miniconda3/envs/library_chatbot/lib/python3.11/json/decoder.py:337\u001b[0m, in \u001b[0;36mJSONDecoder.decode\u001b[0;34m(self, s, _w)\u001b[0m\n\u001b[1;32m    333\u001b[0m \u001b[39m\u001b[39m\u001b[39m\"\"\"Return the Python representation of ``s`` (a ``str`` instance\u001b[39;00m\n\u001b[1;32m    334\u001b[0m \u001b[39mcontaining a JSON document).\u001b[39;00m\n\u001b[1;32m    335\u001b[0m \n\u001b[1;32m    336\u001b[0m \u001b[39m\"\"\"\u001b[39;00m\n\u001b[0;32m--> 337\u001b[0m obj, end \u001b[39m=\u001b[39m \u001b[39mself\u001b[39;49m\u001b[39m.\u001b[39;49mraw_decode(s, idx\u001b[39m=\u001b[39;49m_w(s, \u001b[39m0\u001b[39;49m)\u001b[39m.\u001b[39;49mend())\n\u001b[1;32m    338\u001b[0m end \u001b[39m=\u001b[39m _w(s, end)\u001b[39m.\u001b[39mend()\n",
      "File \u001b[0;32m~/miniconda3/envs/library_chatbot/lib/python3.11/json/decoder.py:355\u001b[0m, in \u001b[0;36mJSONDecoder.raw_decode\u001b[0;34m(self, s, idx)\u001b[0m\n\u001b[1;32m    354\u001b[0m \u001b[39mexcept\u001b[39;00m \u001b[39mStopIteration\u001b[39;00m \u001b[39mas\u001b[39;00m err:\n\u001b[0;32m--> 355\u001b[0m     \u001b[39mraise\u001b[39;00m JSONDecodeError(\u001b[39m\"\u001b[39m\u001b[39mExpecting value\u001b[39m\u001b[39m\"\u001b[39m, s, err\u001b[39m.\u001b[39mvalue) \u001b[39mfrom\u001b[39;00m \u001b[39mNone\u001b[39;00m\n\u001b[1;32m    356\u001b[0m \u001b[39mreturn\u001b[39;00m obj, end\n",
      "\u001b[0;31mJSONDecodeError\u001b[0m: Expecting value: line 1 column 1 (char 0)",
      "\nDuring handling of the above exception, another exception occurred:\n",
      "\u001b[0;31mJSONDecodeError\u001b[0m                           Traceback (most recent call last)",
      "Cell \u001b[0;32mIn[7], line 21\u001b[0m\n\u001b[1;32m     14\u001b[0m     response \u001b[39m=\u001b[39m requests\u001b[39m.\u001b[39mpost(\n\u001b[1;32m     15\u001b[0m         url,\n\u001b[1;32m     16\u001b[0m         data\u001b[39m=\u001b[39m{\u001b[39m\"\u001b[39m\u001b[39mgrant_type\u001b[39m\u001b[39m\"\u001b[39m: grant_type},\n\u001b[1;32m     17\u001b[0m         auth\u001b[39m=\u001b[39m(client_id, client_secret),\n\u001b[1;32m     18\u001b[0m     )\n\u001b[1;32m     19\u001b[0m     \u001b[39mreturn\u001b[39;00m response\u001b[39m.\u001b[39mjson()\n\u001b[0;32m---> 21\u001b[0m t \u001b[39m=\u001b[39m get_access_token()\n\u001b[1;32m     23\u001b[0m \u001b[39m# To check if getting token successed\u001b[39;00m\n\u001b[1;32m     24\u001b[0m \u001b[39mprint\u001b[39m(t)\n",
      "Cell \u001b[0;32mIn[7], line 19\u001b[0m, in \u001b[0;36mget_access_token\u001b[0;34m()\u001b[0m\n\u001b[1;32m     13\u001b[0m \u001b[39mdef\u001b[39;00m \u001b[39mget_access_token\u001b[39m():\n\u001b[1;32m     14\u001b[0m     response \u001b[39m=\u001b[39m requests\u001b[39m.\u001b[39mpost(\n\u001b[1;32m     15\u001b[0m         url,\n\u001b[1;32m     16\u001b[0m         data\u001b[39m=\u001b[39m{\u001b[39m\"\u001b[39m\u001b[39mgrant_type\u001b[39m\u001b[39m\"\u001b[39m: grant_type},\n\u001b[1;32m     17\u001b[0m         auth\u001b[39m=\u001b[39m(client_id, client_secret),\n\u001b[1;32m     18\u001b[0m     )\n\u001b[0;32m---> 19\u001b[0m     \u001b[39mreturn\u001b[39;00m response\u001b[39m.\u001b[39;49mjson()\n",
      "File \u001b[0;32m~/miniconda3/envs/library_chatbot/lib/python3.11/site-packages/requests/models.py:975\u001b[0m, in \u001b[0;36mResponse.json\u001b[0;34m(self, **kwargs)\u001b[0m\n\u001b[1;32m    971\u001b[0m     \u001b[39mreturn\u001b[39;00m complexjson\u001b[39m.\u001b[39mloads(\u001b[39mself\u001b[39m\u001b[39m.\u001b[39mtext, \u001b[39m*\u001b[39m\u001b[39m*\u001b[39mkwargs)\n\u001b[1;32m    972\u001b[0m \u001b[39mexcept\u001b[39;00m JSONDecodeError \u001b[39mas\u001b[39;00m e:\n\u001b[1;32m    973\u001b[0m     \u001b[39m# Catch JSON-related errors and raise as requests.JSONDecodeError\u001b[39;00m\n\u001b[1;32m    974\u001b[0m     \u001b[39m# This aliases json.JSONDecodeError and simplejson.JSONDecodeError\u001b[39;00m\n\u001b[0;32m--> 975\u001b[0m     \u001b[39mraise\u001b[39;00m RequestsJSONDecodeError(e\u001b[39m.\u001b[39mmsg, e\u001b[39m.\u001b[39mdoc, e\u001b[39m.\u001b[39mpos)\n",
      "\u001b[0;31mJSONDecodeError\u001b[0m: Expecting value: line 1 column 1 (char 0)"
     ]
    }
   ],
   "source": [
    "import requests\n",
    "import configparser\n",
    "\n",
    "config = configparser.ConfigParser()\n",
    "\n",
    "config.read('config.ini')\n",
    "url = config['DEFAULT']['url']\n",
    "client_id = config['DEFAULT']['client_id']\n",
    "client_secret = config['DEFAULT']['client_secret']\n",
    "grant_type = config['DEFAULT']['grant_type']\n",
    "\n",
    "\n",
    "def get_access_token():\n",
    "    response = requests.post(\n",
    "        url,\n",
    "        data={\"grant_type\": grant_type},\n",
    "        auth=(client_id, client_secret),\n",
    "    )\n",
    "    return response.json()\n",
    "\n",
    "t = get_access_token()\n",
    "\n",
    "# To check if getting token successed\n",
    "print(t)\n"
   ]
  },
  {
   "attachments": {},
   "cell_type": "markdown",
   "metadata": {},
   "source": [
    "#### 2. Read Room Availability"
   ]
  },
  {
   "cell_type": "code",
   "execution_count": 3,
   "metadata": {},
   "outputs": [
    {
     "data": {
      "text/plain": [
       "[{'id': 130595,\n",
       "  'name': 'Room 1',\n",
       "  'description': '',\n",
       "  'termsAndConditions': '',\n",
       "  'image': '',\n",
       "  'capacity': 4,\n",
       "  'formid': 0,\n",
       "  'isBookableAsWhole': True,\n",
       "  'isAccessible': False,\n",
       "  'isPowered': False,\n",
       "  'isEventLocation': True,\n",
       "  'zoneId': 0,\n",
       "  'google': False,\n",
       "  'exchange': False,\n",
       "  'availability': [{'from': '2023-06-28T16:15:00-04:00',\n",
       "    'to': '2023-06-28T16:30:00-04:00'},\n",
       "   {'from': '2023-06-28T16:30:00-04:00', 'to': '2023-06-28T16:45:00-04:00'},\n",
       "   {'from': '2023-06-28T16:45:00-04:00', 'to': '2023-06-28T17:00:00-04:00'},\n",
       "   {'from': '2023-06-28T17:00:00-04:00', 'to': '2023-06-28T17:15:00-04:00'},\n",
       "   {'from': '2023-06-28T17:15:00-04:00', 'to': '2023-06-28T17:30:00-04:00'},\n",
       "   {'from': '2023-06-28T17:30:00-04:00', 'to': '2023-06-28T17:45:00-04:00'},\n",
       "   {'from': '2023-06-28T17:45:00-04:00', 'to': '2023-06-28T18:00:00-04:00'},\n",
       "   {'from': '2023-06-28T18:00:00-04:00', 'to': '2023-06-28T18:15:00-04:00'},\n",
       "   {'from': '2023-06-28T18:15:00-04:00', 'to': '2023-06-28T18:30:00-04:00'},\n",
       "   {'from': '2023-06-28T18:30:00-04:00', 'to': '2023-06-28T18:45:00-04:00'},\n",
       "   {'from': '2023-06-28T18:45:00-04:00', 'to': '2023-06-28T19:00:00-04:00'},\n",
       "   {'from': '2023-06-28T19:00:00-04:00', 'to': '2023-06-28T19:15:00-04:00'},\n",
       "   {'from': '2023-06-28T19:15:00-04:00', 'to': '2023-06-28T19:30:00-04:00'},\n",
       "   {'from': '2023-06-28T19:30:00-04:00', 'to': '2023-06-28T19:45:00-04:00'},\n",
       "   {'from': '2023-06-28T19:45:00-04:00', 'to': '2023-06-28T20:00:00-04:00'},\n",
       "   {'from': '2023-06-28T20:00:00-04:00', 'to': '2023-06-28T20:15:00-04:00'},\n",
       "   {'from': '2023-06-28T20:15:00-04:00', 'to': '2023-06-28T20:30:00-04:00'},\n",
       "   {'from': '2023-06-28T20:30:00-04:00', 'to': '2023-06-28T20:45:00-04:00'},\n",
       "   {'from': '2023-06-28T20:45:00-04:00', 'to': '2023-06-28T21:00:00-04:00'}]}]"
      ]
     },
     "execution_count": 3,
     "metadata": {},
     "output_type": "execute_result"
    }
   ],
   "source": [
    "# To see the public page for testing rooms: https://muohio.libcal.com/reserve/chatbot-rooms/\n",
    "room1 = config['ROOMS']['Room1']\n",
    "room_avalb_url = config['DEFAULT']['avalb_url']\n",
    "\n",
    "header = {'Authorization': f'Bearer {t[\"access_token\"]}'}\n",
    "\n",
    "response = requests.get(room_avalb_url.format(room1), headers=header)\n",
    "\n",
    "# To check if reading rooms availability is successful\n",
    "response.json()"
   ]
  },
  {
   "attachments": {},
   "cell_type": "markdown",
   "metadata": {},
   "source": [
    "#### 3. Book a Room"
   ]
  },
  {
   "cell_type": "code",
   "execution_count": 4,
   "metadata": {},
   "outputs": [
    {
     "name": "stdout",
     "output_type": "stream",
     "text": [
      "<Response [200]>\n",
      "{'booking_id': 'cs_Zl4XRKsK', 'cost': '0'}\n"
     ]
    }
   ],
   "source": [
    "# E.g. Book \"Chat-Bot-Testing\" building, Room1\n",
    "\n",
    "reserve_url = config['DEFAULT']['resv_url']\n",
    "\n",
    "# Put customized reservation information below:\n",
    "start_time = \"2023-07-02T19:00:00-05:00\"\n",
    "# room_id = config['ROOMS']['Room1']\n",
    "room_id = \"130626\"\n",
    "customer_fname = \"Nhut\"\n",
    "customer_lname = \"Do\"\n",
    "email_address = \"donm@miamioh.edu\"\n",
    "end_time = \"2023-07-02T20:00:00-05:00\"\n",
    "\n",
    "\n",
    "payload = {\n",
    "    \"start\": start_time,\n",
    "    \"fname\": customer_fname,\n",
    "    \"lname\": customer_lname,\n",
    "    \"email\": email_address,\n",
    "    # \"adminbooking\": 1,\n",
    "    \"bookings\": [\n",
    "        {\n",
    "            \"id\": room_id,\n",
    "            \"to\": end_time\n",
    "        },\n",
    "    ]\n",
    "}\n",
    "\n",
    "response = requests.post(reserve_url, headers=header, json=payload)\n",
    "\n",
    "# Return the confirmation: booking_id, indicates that the reservation is successful.\n",
    "# response.json()\n",
    "print(response)\n",
    "print(response.json())"
   ]
  },
  {
   "attachments": {},
   "cell_type": "markdown",
   "metadata": {},
   "source": [
    "#### 4. Delete an Existing Room Reservation"
   ]
  },
  {
   "cell_type": "code",
   "execution_count": 7,
   "metadata": {},
   "outputs": [
    {
     "data": {
      "text/plain": [
       "[{'booking_id': 'cs_WV8JmBs3', 'cancelled': True}]"
      ]
     },
     "execution_count": 7,
     "metadata": {},
     "output_type": "execute_result"
    }
   ],
   "source": [
    "cancel_url = config['DEFAULT']['cancel_url']\n",
    "booking_id = \"cs_WV8JmBs3\"\n",
    "\n",
    "cancel_response = requests.post(f'{cancel_url}/{booking_id}', headers=header)\n",
    "\n",
    "# Return \"True\" as cancel successed\n",
    "cancel_response.json()"
   ]
  },
  {
   "cell_type": "code",
   "execution_count": 5,
   "metadata": {},
   "outputs": [
    {
     "name": "stdout",
     "output_type": "stream",
     "text": [
      "Requirement already satisfied: requests in c:\\users\\aayog\\appdata\\local\\programs\\python\\python310\\lib\\site-packages (2.27.1)\n",
      "Requirement already satisfied: charset-normalizer~=2.0.0 in c:\\users\\aayog\\appdata\\local\\programs\\python\\python310\\lib\\site-packages (from requests) (2.0.11)\n",
      "Requirement already satisfied: idna<4,>=2.5 in c:\\users\\aayog\\appdata\\local\\programs\\python\\python310\\lib\\site-packages (from requests) (3.3)\n",
      "Requirement already satisfied: urllib3<1.27,>=1.21.1 in c:\\users\\aayog\\appdata\\local\\programs\\python\\python310\\lib\\site-packages (from requests) (1.26.8)\n",
      "Requirement already satisfied: certifi>=2017.4.17 in c:\\users\\aayog\\appdata\\local\\programs\\python\\python310\\lib\\site-packages (from requests) (2021.10.8)\n"
     ]
    }
   ],
   "source": [
    "!pip install requests"
   ]
  },
  {
   "cell_type": "code",
   "execution_count": 9,
   "metadata": {},
   "outputs": [
    {
     "data": {
      "text/plain": [
       "<OpenAIObject chat.completion id=chatcmpl-7Vmvkmxn0hJLnt3j7wCC3DqzM1nSF at 0x7f819803a030> JSON: {\n",
       "  \"id\": \"chatcmpl-7Vmvkmxn0hJLnt3j7wCC3DqzM1nSF\",\n",
       "  \"object\": \"chat.completion\",\n",
       "  \"created\": 1687810612,\n",
       "  \"model\": \"gpt-3.5-turbo-0301\",\n",
       "  \"choices\": [\n",
       "    {\n",
       "      \"index\": 0,\n",
       "      \"message\": {\n",
       "        \"role\": \"assistant\",\n",
       "        \"content\": \"Today is July 4th.\"\n",
       "      },\n",
       "      \"finish_reason\": \"stop\"\n",
       "    }\n",
       "  ],\n",
       "  \"usage\": {\n",
       "    \"prompt_tokens\": 30,\n",
       "    \"completion_tokens\": 7,\n",
       "    \"total_tokens\": 37\n",
       "  }\n",
       "}"
      ]
     },
     "execution_count": 9,
     "metadata": {},
     "output_type": "execute_result"
    }
   ],
   "source": [
    "import openai\n",
    "\n",
    "openai.ChatCompletion.create(\n",
    "  model=\"gpt-3.5-turbo\",\n",
    "  messages=[\n",
    "        {\"role\": \"system\", \"content\": \"You are a helpful assistant. Today is July 4th.\"},\n",
    "        {\"role\": \"user\", \"content\": \"What date is today\"}\n",
    "    ]\n",
    ")"
   ]
  },
  {
   "cell_type": "code",
   "execution_count": 10,
   "metadata": {},
   "outputs": [
    {
     "data": {
      "text/plain": [
       "<OpenAIObject chat.completion id=chatcmpl-7VmvwMmaBV2k1LJvbYjVSEY04PrcN at 0x7f819803a630> JSON: {\n",
       "  \"id\": \"chatcmpl-7VmvwMmaBV2k1LJvbYjVSEY04PrcN\",\n",
       "  \"object\": \"chat.completion\",\n",
       "  \"created\": 1687810624,\n",
       "  \"model\": \"gpt-3.5-turbo-0301\",\n",
       "  \"choices\": [\n",
       "    {\n",
       "      \"index\": 0,\n",
       "      \"message\": {\n",
       "        \"role\": \"assistant\",\n",
       "        \"content\": \"I am sorry, as an AI language model, I do not have access to real-time information on the internet and I do not have the ability to perceive the current date. However, you can ask me other questions or give me other commands that I can assist you with.\"\n",
       "      },\n",
       "      \"finish_reason\": \"stop\"\n",
       "    }\n",
       "  ],\n",
       "  \"usage\": {\n",
       "    \"prompt_tokens\": 12,\n",
       "    \"completion_tokens\": 55,\n",
       "    \"total_tokens\": 67\n",
       "  }\n",
       "}"
      ]
     },
     "execution_count": 10,
     "metadata": {},
     "output_type": "execute_result"
    }
   ],
   "source": [
    "openai.ChatCompletion.create(\n",
    "  model=\"gpt-3.5-turbo\",\n",
    "  messages=[\n",
    "        {\"role\": \"user\", \"content\": \"What date is today\"},\n",
    "    ]\n",
    ")"
   ]
  },
  {
   "cell_type": "code",
   "execution_count": null,
   "metadata": {},
   "outputs": [],
   "source": []
  }
 ],
 "metadata": {
  "interpreter": {
   "hash": "b0fa6594d8f4cbf19f97940f81e996739fb7646882a419484c72d19e05852a7e"
  },
  "kernelspec": {
   "display_name": "Python 3.9.7 64-bit",
   "language": "python",
   "name": "python3"
  },
  "language_info": {
   "codemirror_mode": {
    "name": "ipython",
    "version": 3
   },
   "file_extension": ".py",
   "mimetype": "text/x-python",
   "name": "python",
   "nbconvert_exporter": "python",
   "pygments_lexer": "ipython3",
   "version": "3.11.3"
  },
  "orig_nbformat": 4
 },
 "nbformat": 4,
 "nbformat_minor": 2
}
